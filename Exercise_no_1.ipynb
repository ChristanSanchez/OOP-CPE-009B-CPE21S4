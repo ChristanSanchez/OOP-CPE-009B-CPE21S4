{
  "nbformat": 4,
  "nbformat_minor": 0,
  "metadata": {
    "colab": {
      "provenance": [],
      "authorship_tag": "ABX9TyMyukX45Q6Iwao8yid1YPL0",
      "include_colab_link": true
    },
    "kernelspec": {
      "name": "python3",
      "display_name": "Python 3"
    },
    "language_info": {
      "name": "python"
    }
  },
  "cells": [
    {
      "cell_type": "markdown",
      "metadata": {
        "id": "view-in-github",
        "colab_type": "text"
      },
      "source": [
        "<a href=\"https://colab.research.google.com/github/ChristanSanchez/OOP-CPE-009B-CPE21S4/blob/main/Exercise_no_1.ipynb\" target=\"_parent\"><img src=\"https://colab.research.google.com/assets/colab-badge.svg\" alt=\"Open In Colab\"/></a>"
      ]
    },
    {
      "cell_type": "markdown",
      "source": [
        "## EXERCISE 1"
      ],
      "metadata": {
        "id": "5RtKk3vQFaSy"
      }
    },
    {
      "cell_type": "code",
      "source": [
        "#Class Constructor\n",
        "\n",
        "class Person:\n",
        "  def __init__ (self, name, age, birthdate):\n",
        "    self.name = name\n",
        "    self.age = age\n",
        "    self.birthdate = birthdate  #defining attributes and identity\n",
        "\n",
        "  def person_attribute(self): # Method constructor\n",
        "    return f\"My name is {self.name} and with an age of {self.age} I was born in {self.birthdate}\"\n",
        "\n",
        "class Teacher(Person): #subclass\n",
        "  pass\n",
        "class Student(Person):\n",
        "  pass\n",
        "#object instantiation\n",
        "person = Person(\"Ana\", 19, \"January 3,2005\") #behavior/instance of a class\n",
        "print(person.person_attribute())\n",
        "student = Student(\"Mark\",20,\"April 7,2004\")\n",
        "print(student.person_attribute())\n",
        "teacher = Teacher(\"Kenn\", 34, \"May 16, 1990\")\n",
        "print(teacher.person_attribute())"
      ],
      "metadata": {
        "colab": {
          "base_uri": "https://localhost:8080/"
        },
        "id": "jQT2raOrOyvL",
        "outputId": "49bea0bf-e969-4a1f-abe8-a2c5fe613d46"
      },
      "execution_count": 21,
      "outputs": [
        {
          "output_type": "stream",
          "name": "stdout",
          "text": [
            "My name is Ana and with an age of 19 I was born in January 3,2005\n",
            "My name is Mark and with an age of 20 I was born in April 7,2004\n",
            "My name is Kenn and with an age of 34 I was born in May 16, 1990\n"
          ]
        }
      ]
    },
    {
      "cell_type": "markdown",
      "source": [
        "# CHALLENGE 1"
      ],
      "metadata": {
        "id": "b7IqSOVhTBm0"
      }
    },
    {
      "cell_type": "markdown",
      "source": [
        "Create a python program that has the follwing:\n",
        "\n",
        "1. Super class named as Shapes\n",
        "2. Sub class: Rectangle, Square\n",
        "3. Methods: Perimeter(), Area()\n",
        "4. Object name: rectangle, square\n",
        "5. Inherits the attributes of Super class\n",
        "self.side = side"
      ],
      "metadata": {
        "id": "bxXBE7eiT47K"
      }
    },
    {
      "cell_type": "code",
      "source": [
        "class Shapes:\n",
        "  def __init__(self, side):\n",
        "    self.side = side\n",
        "\n",
        "class Rectangle(Shapes):\n",
        "  def __init__(self, side1, side2, side3):\n",
        "    super().__init__(side1)\n",
        "    self.length = side2\n",
        "    self.width = side3\n",
        "  def area(self):\n",
        "    return self.length * self.width\n",
        "  def perimeter(self):\n",
        "    return 2 * (self.length + self.width)\n",
        "\n",
        "class Square(Shapes):\n",
        "  def area(self):\n",
        "    return self.side ** 2\n",
        "  def perimeter(self):\n",
        "    return 4 * self.side\n",
        "\n",
        "rectangle = Rectangle(0, 3, 5)\n",
        "square = Square(5)\n",
        "\n",
        "print(\"Rectangle Area:\", rectangle.area())\n",
        "print(\"Rectangle Perimeter:\", rectangle.perimeter())\n",
        "print(\"Square Area:\", square.area())\n",
        "print(\"Square Perimeter:\", square.perimeter())"
      ],
      "metadata": {
        "colab": {
          "base_uri": "https://localhost:8080/"
        },
        "id": "2AF5vXHnQDxz",
        "outputId": "47a5a934-4078-445c-daa3-f6a79e84e6b1"
      },
      "execution_count": 9,
      "outputs": [
        {
          "output_type": "stream",
          "name": "stdout",
          "text": [
            "Rectangle Area: 15\n",
            "Rectangle Perimeter: 16\n",
            "Square Area: 25\n",
            "Square Perimeter: 20\n"
          ]
        }
      ]
    },
    {
      "cell_type": "markdown",
      "source": [],
      "metadata": {
        "id": "wjXHP75aXZXL"
      }
    }
  ]
}