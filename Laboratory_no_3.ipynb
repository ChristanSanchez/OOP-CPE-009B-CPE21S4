{
  "nbformat": 4,
  "nbformat_minor": 0,
  "metadata": {
    "colab": {
      "provenance": [],
      "authorship_tag": "ABX9TyPZ5IUTyWifUrK+k/XY1PZ4",
      "include_colab_link": true
    },
    "kernelspec": {
      "name": "python3",
      "display_name": "Python 3"
    },
    "language_info": {
      "name": "python"
    }
  },
  "cells": [
    {
      "cell_type": "markdown",
      "metadata": {
        "id": "view-in-github",
        "colab_type": "text"
      },
      "source": [
        "<a href=\"https://colab.research.google.com/github/ChristanSanchez/OOP-CPE-009B-CPE21S4/blob/main/Laboratory_no_3.ipynb\" target=\"_parent\"><img src=\"https://colab.research.google.com/assets/colab-badge.svg\" alt=\"Open In Colab\"/></a>"
      ]
    },
    {
      "cell_type": "code",
      "execution_count": 11,
      "metadata": {
        "colab": {
          "base_uri": "https://localhost:8080/"
        },
        "id": "SJoHGN-OiTVo",
        "outputId": "ec678bfd-3d7d-480a-d714-d994a1bf0146"
      },
      "outputs": [
        {
          "output_type": "stream",
          "name": "stdout",
          "text": [
            "=== Employee Details ===\n",
            "ID: 1\n",
            "Name: Kenn Jie\n",
            "Address: 123 Pasig\n",
            "Full-time Salary: 20000, Total Salary: 440000, Cut-off Date: 2024-09-30\n",
            "\n",
            "ID: 2\n",
            "Name: Liv\n",
            "Address: 456 Anonas\n",
            "Part-time Rate: 15, Total Salary: 300, Cut-off Date: 2024-09-30\n"
          ]
        }
      ],
      "source": [
        "from abc import ABC, abstractmethod\n",
        "\n",
        "class Employee(ABC):\n",
        "    def __init__(self, emp_id, emp_name, emp_address):\n",
        "        # Initialize employee attributes\n",
        "        self.__emp_id = emp_id\n",
        "        self.__emp_name = emp_name\n",
        "        self.__emp_address = emp_address\n",
        "\n",
        "    @abstractmethod\n",
        "    def calculate_salary(self):\n",
        "        pass\n",
        "\n",
        "    def get_emp_id(self):\n",
        "        # Return employee ID\n",
        "        return self.__emp_id\n",
        "\n",
        "    def get_emp_name(self):\n",
        "        # Return employee name\n",
        "        return self.__emp_name\n",
        "\n",
        "    def get_emp_address(self):\n",
        "        # Return employee address\n",
        "        return self.__emp_address\n",
        "\n",
        "\n",
        "class Fulltime(Employee):\n",
        "    def __init__(self, emp_id, emp_name, emp_address, allowance, rate):\n",
        "        # Initialize full-time employee attributes\n",
        "        super().__init__(emp_id, emp_name, emp_address)\n",
        "        self.__allowance = allowance\n",
        "        self.__rate = rate\n",
        "\n",
        "    def calculate_salary(self):\n",
        "        # Calculate total salary for full-time employee\n",
        "        return self.__allowance * self.__rate\n",
        "\n",
        "\n",
        "class Parttime(Employee):\n",
        "    def __init__(self, emp_id, emp_name, emp_address, rate):\n",
        "        # Initialize part-time employee attributes\n",
        "        super().__init__(emp_id, emp_name, emp_address)\n",
        "        self.__rate = rate\n",
        "\n",
        "    def calculate_salary(self):\n",
        "        # Return hourly rate for part-time employee\n",
        "        return self.__rate\n",
        "\n",
        "\n",
        "class Salary:\n",
        "    def __init__(self, salary_id, salary, cut_off_date, days_of_work):\n",
        "        # Initialize salary attributes\n",
        "        self.salary_id = salary_id\n",
        "        self.salary = salary\n",
        "        self.cut_off_date = cut_off_date\n",
        "        self.days_of_work = days_of_work\n",
        "\n",
        "    def calculate_total_salary(self):\n",
        "        # Calculate total salary based on days worked\n",
        "        return self.salary * self.days_of_work\n",
        "\n",
        "\n",
        "# Example usage\n",
        "if __name__ == \"__main__\":\n",
        "    emp1 = Fulltime(1, \"Kenn Jie\", \"123 Pasig\", 1000, 20)\n",
        "    emp2 = Parttime(2, \"Liv\", \"456 Anonas\", 15)\n",
        "\n",
        "    # Calculate salaries\n",
        "    salary1 = Salary(101, emp1.calculate_salary(), \"2024-09-30\", 22)\n",
        "    salary2 = Salary(102, emp2.calculate_salary(), \"2024-09-30\", 20)  # Assuming 20 days of work for part-time\n",
        "\n",
        "    # Print employee details and salaries\n",
        "    print(\"=== Employee Details ===\")\n",
        "    print(f\"ID: {emp1.get_emp_id()}\\nName: {emp1.get_emp_name()}\\nAddress: {emp1.get_emp_address()}\")\n",
        "    print(f\"Full-time Salary: {salary1.salary}, Total Salary: {salary1.calculate_total_salary()}, Cut-off Date: {salary1.cut_off_date}\\n\")\n",
        "\n",
        "    print(f\"ID: {emp2.get_emp_id()}\\nName: {emp2.get_emp_name()}\\nAddress: {emp2.get_emp_address()}\")\n",
        "    print(f\"Part-time Rate: {emp2.calculate_salary()}, Total Salary: {salary2.calculate_total_salary()}, Cut-off Date: {salary2.cut_off_date}\")\n"
      ]
    }
  ]
}